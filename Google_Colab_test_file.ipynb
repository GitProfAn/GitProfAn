{
  "nbformat": 4,
  "nbformat_minor": 0,
  "metadata": {
    "colab": {
      "name": "Google_Colab_test_file.ipynb",
      "provenance": [],
      "collapsed_sections": [],
      "mount_file_id": "1EAm_TLFfnSEWoGwRSJGOvtr0thggL6Eg",
      "authorship_tag": "ABX9TyO6qOhW6AvFELnpRP7sVYC8",
      "include_colab_link": true
    },
    "kernelspec": {
      "name": "python3",
      "display_name": "Python 3"
    }
  },
  "cells": [
    {
      "cell_type": "markdown",
      "metadata": {
        "id": "view-in-github",
        "colab_type": "text"
      },
      "source": [
        "<a href=\"https://colab.research.google.com/github/GitProfAn/GitProfAn/blob/main/Google_Colab_test_file.ipynb\" target=\"_parent\"><img src=\"https://colab.research.google.com/assets/colab-badge.svg\" alt=\"Open In Colab\"/></a>"
      ]
    },
    {
      "cell_type": "code",
      "metadata": {
        "colab": {
          "base_uri": "https://localhost:8080/",
          "height": 35
        },
        "id": "ckJaqVatz6TB",
        "outputId": "4b8dcd57-9a6d-48cf-87f8-6da1f9523a14"
      },
      "source": [
        "import shutil\r\n",
        "\r\n",
        "shutil.copy(\"/content/drive/MyDrive/Colab Notebooks/datasets.zip\", \"datasets.zip\")"
      ],
      "execution_count": null,
      "outputs": [
        {
          "output_type": "execute_result",
          "data": {
            "application/vnd.google.colaboratory.intrinsic+json": {
              "type": "string"
            },
            "text/plain": [
              "'datasets.zip'"
            ]
          },
          "metadata": {
            "tags": []
          },
          "execution_count": 1
        }
      ]
    },
    {
      "cell_type": "code",
      "metadata": {
        "id": "fZ32lzlK0iI2",
        "colab": {
          "base_uri": "https://localhost:8080/"
        },
        "outputId": "1e41491c-8c01-4be1-a276-df48340fe455"
      },
      "source": [
        "!unzip datasets.zip"
      ],
      "execution_count": null,
      "outputs": [
        {
          "output_type": "stream",
          "text": [
            "Archive:  datasets.zip\n",
            "   creating: datasets/\n",
            "  inflating: datasets/iris.data      \n"
          ],
          "name": "stdout"
        }
      ]
    },
    {
      "cell_type": "code",
      "metadata": {
        "id": "igotjT7Z1kl4"
      },
      "source": [
        "import pandas as pd"
      ],
      "execution_count": null,
      "outputs": []
    },
    {
      "cell_type": "code",
      "metadata": {
        "id": "eFo_ye1R2uDj"
      },
      "source": [
        "data = pd.read_fwf(\"datasets/iris.data\")"
      ],
      "execution_count": null,
      "outputs": []
    },
    {
      "cell_type": "code",
      "metadata": {
        "colab": {
          "base_uri": "https://localhost:8080/",
          "height": 415
        },
        "id": "ZcOCrcc13Au5",
        "outputId": "a7d45431-742d-4fb4-c48a-f4018d4c9a7e"
      },
      "source": [
        "data"
      ],
      "execution_count": null,
      "outputs": [
        {
          "output_type": "execute_result",
          "data": {
            "text/html": [
              "<div>\n",
              "<style scoped>\n",
              "    .dataframe tbody tr th:only-of-type {\n",
              "        vertical-align: middle;\n",
              "    }\n",
              "\n",
              "    .dataframe tbody tr th {\n",
              "        vertical-align: top;\n",
              "    }\n",
              "\n",
              "    .dataframe thead th {\n",
              "        text-align: right;\n",
              "    }\n",
              "</style>\n",
              "<table border=\"1\" class=\"dataframe\">\n",
              "  <thead>\n",
              "    <tr style=\"text-align: right;\">\n",
              "      <th></th>\n",
              "      <th>5.1,3.5,1.4,0.2,Iris-setosa</th>\n",
              "    </tr>\n",
              "  </thead>\n",
              "  <tbody>\n",
              "    <tr>\n",
              "      <th>0</th>\n",
              "      <td>4.9,3.0,1.4,0.2,Iris-setosa</td>\n",
              "    </tr>\n",
              "    <tr>\n",
              "      <th>1</th>\n",
              "      <td>4.7,3.2,1.3,0.2,Iris-setosa</td>\n",
              "    </tr>\n",
              "    <tr>\n",
              "      <th>2</th>\n",
              "      <td>4.6,3.1,1.5,0.2,Iris-setosa</td>\n",
              "    </tr>\n",
              "    <tr>\n",
              "      <th>3</th>\n",
              "      <td>5.0,3.6,1.4,0.2,Iris-setosa</td>\n",
              "    </tr>\n",
              "    <tr>\n",
              "      <th>4</th>\n",
              "      <td>5.4,3.9,1.7,0.4,Iris-setosa</td>\n",
              "    </tr>\n",
              "    <tr>\n",
              "      <th>...</th>\n",
              "      <td>...</td>\n",
              "    </tr>\n",
              "    <tr>\n",
              "      <th>144</th>\n",
              "      <td>6.7,3.0,5.2,2.3,Iris-virginica</td>\n",
              "    </tr>\n",
              "    <tr>\n",
              "      <th>145</th>\n",
              "      <td>6.3,2.5,5.0,1.9,Iris-virginica</td>\n",
              "    </tr>\n",
              "    <tr>\n",
              "      <th>146</th>\n",
              "      <td>6.5,3.0,5.2,2.0,Iris-virginica</td>\n",
              "    </tr>\n",
              "    <tr>\n",
              "      <th>147</th>\n",
              "      <td>6.2,3.4,5.4,2.3,Iris-virginica</td>\n",
              "    </tr>\n",
              "    <tr>\n",
              "      <th>148</th>\n",
              "      <td>5.9,3.0,5.1,1.8,Iris-virginica</td>\n",
              "    </tr>\n",
              "  </tbody>\n",
              "</table>\n",
              "<p>149 rows × 1 columns</p>\n",
              "</div>"
            ],
            "text/plain": [
              "        5.1,3.5,1.4,0.2,Iris-setosa\n",
              "0       4.9,3.0,1.4,0.2,Iris-setosa\n",
              "1       4.7,3.2,1.3,0.2,Iris-setosa\n",
              "2       4.6,3.1,1.5,0.2,Iris-setosa\n",
              "3       5.0,3.6,1.4,0.2,Iris-setosa\n",
              "4       5.4,3.9,1.7,0.4,Iris-setosa\n",
              "..                              ...\n",
              "144  6.7,3.0,5.2,2.3,Iris-virginica\n",
              "145  6.3,2.5,5.0,1.9,Iris-virginica\n",
              "146  6.5,3.0,5.2,2.0,Iris-virginica\n",
              "147  6.2,3.4,5.4,2.3,Iris-virginica\n",
              "148  5.9,3.0,5.1,1.8,Iris-virginica\n",
              "\n",
              "[149 rows x 1 columns]"
            ]
          },
          "metadata": {
            "tags": []
          },
          "execution_count": 5
        }
      ]
    }
  ]
}