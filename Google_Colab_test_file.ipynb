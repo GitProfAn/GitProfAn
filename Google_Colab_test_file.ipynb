{
  "nbformat": 4,
  "nbformat_minor": 0,
  "metadata": {
    "colab": {
      "name": "Google_Colab_test_file.ipynb",
      "provenance": [],
      "collapsed_sections": [],
      "toc_visible": true,
      "mount_file_id": "1EAm_TLFfnSEWoGwRSJGOvtr0thggL6Eg",
      "authorship_tag": "ABX9TyODhMynAtqDcCOWsjnryvD0",
      "include_colab_link": true
    },
    "kernelspec": {
      "name": "python3",
      "display_name": "Python 3"
    }
  },
  "cells": [
    {
      "cell_type": "markdown",
      "metadata": {
        "id": "view-in-github",
        "colab_type": "text"
      },
      "source": [
        "<a href=\"https://colab.research.google.com/github/GitProfAn/GitProfAn/blob/main/Google_Colab_test_file.ipynb\" target=\"_parent\"><img src=\"https://colab.research.google.com/assets/colab-badge.svg\" alt=\"Open In Colab\"/></a>"
      ]
    },
    {
      "cell_type": "code",
      "metadata": {
        "colab": {
          "base_uri": "https://localhost:8080/",
          "height": 35
        },
        "id": "ckJaqVatz6TB",
        "outputId": "2f7cc0d8-be80-4468-9a97-ebdb63df4187"
      },
      "source": [
        "import shutil\r\n",
        "\r\n",
        "shutil.copy(\"/content/drive/MyDrive/Colab Notebooks/datasets.zip\", \"datasets.zip\")"
      ],
      "execution_count": null,
      "outputs": [
        {
          "output_type": "execute_result",
          "data": {
            "application/vnd.google.colaboratory.intrinsic+json": {
              "type": "string"
            },
            "text/plain": [
              "'datasets.zip'"
            ]
          },
          "metadata": {
            "tags": []
          },
          "execution_count": 2
        }
      ]
    },
    {
      "cell_type": "markdown",
      "metadata": {
        "id": "2ERrE1UmGCy8"
      },
      "source": [
        "![screen_01.png](data:image/png;base64,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)"
      ]
    },
    {
      "cell_type": "markdown",
      "metadata": {
        "id": "zAhkW6A5GLmY"
      },
      "source": [
        "step 1:\r\n",
        "click on the folder\r\n",
        "\r\n",
        "step 2:\r\n",
        "mount the google drive by clicking the proper button\r\n",
        "\r\n",
        "step 3:\r\n",
        "open the drop-down menu (by clicking the vertical dots) and you will be able to cope a path to the file (here it is: /content/drive/MyDrive/Colab Notebooks/datasets.zip)"
      ]
    },
    {
      "cell_type": "code",
      "metadata": {
        "id": "fZ32lzlK0iI2",
        "colab": {
          "base_uri": "https://localhost:8080/"
        },
        "outputId": "66b3bd4a-63f8-41d8-c26a-5b0fcf7b7f83"
      },
      "source": [
        "!unzip datasets.zip"
      ],
      "execution_count": null,
      "outputs": [
        {
          "output_type": "stream",
          "text": [
            "Archive:  datasets.zip\n",
            "   creating: datasets/\n",
            "  inflating: datasets/iris.data      \n"
          ],
          "name": "stdout"
        }
      ]
    },
    {
      "cell_type": "code",
      "metadata": {
        "id": "igotjT7Z1kl4"
      },
      "source": [
        "import pandas as pd"
      ],
      "execution_count": null,
      "outputs": []
    },
    {
      "cell_type": "code",
      "metadata": {
        "id": "eFo_ye1R2uDj"
      },
      "source": [
        "data = pd.read_fwf(\"datasets/iris.data\")"
      ],
      "execution_count": null,
      "outputs": []
    },
    {
      "cell_type": "code",
      "metadata": {
        "colab": {
          "base_uri": "https://localhost:8080/",
          "height": 202
        },
        "id": "ZcOCrcc13Au5",
        "outputId": "a36eca80-ad25-4d07-de54-134bfe6fb17b"
      },
      "source": [
        "data.head()"
      ],
      "execution_count": null,
      "outputs": [
        {
          "output_type": "execute_result",
          "data": {
            "text/html": [
              "<div>\n",
              "<style scoped>\n",
              "    .dataframe tbody tr th:only-of-type {\n",
              "        vertical-align: middle;\n",
              "    }\n",
              "\n",
              "    .dataframe tbody tr th {\n",
              "        vertical-align: top;\n",
              "    }\n",
              "\n",
              "    .dataframe thead th {\n",
              "        text-align: right;\n",
              "    }\n",
              "</style>\n",
              "<table border=\"1\" class=\"dataframe\">\n",
              "  <thead>\n",
              "    <tr style=\"text-align: right;\">\n",
              "      <th></th>\n",
              "      <th>5.1,3.5,1.4,0.2,Iris-setosa</th>\n",
              "    </tr>\n",
              "  </thead>\n",
              "  <tbody>\n",
              "    <tr>\n",
              "      <th>0</th>\n",
              "      <td>4.9,3.0,1.4,0.2,Iris-setosa</td>\n",
              "    </tr>\n",
              "    <tr>\n",
              "      <th>1</th>\n",
              "      <td>4.7,3.2,1.3,0.2,Iris-setosa</td>\n",
              "    </tr>\n",
              "    <tr>\n",
              "      <th>2</th>\n",
              "      <td>4.6,3.1,1.5,0.2,Iris-setosa</td>\n",
              "    </tr>\n",
              "    <tr>\n",
              "      <th>3</th>\n",
              "      <td>5.0,3.6,1.4,0.2,Iris-setosa</td>\n",
              "    </tr>\n",
              "    <tr>\n",
              "      <th>4</th>\n",
              "      <td>5.4,3.9,1.7,0.4,Iris-setosa</td>\n",
              "    </tr>\n",
              "  </tbody>\n",
              "</table>\n",
              "</div>"
            ],
            "text/plain": [
              "   5.1,3.5,1.4,0.2,Iris-setosa\n",
              "0  4.9,3.0,1.4,0.2,Iris-setosa\n",
              "1  4.7,3.2,1.3,0.2,Iris-setosa\n",
              "2  4.6,3.1,1.5,0.2,Iris-setosa\n",
              "3  5.0,3.6,1.4,0.2,Iris-setosa\n",
              "4  5.4,3.9,1.7,0.4,Iris-setosa"
            ]
          },
          "metadata": {
            "tags": []
          },
          "execution_count": 6
        }
      ]
    },
    {
      "cell_type": "code",
      "metadata": {
        "id": "CL3IwYhJ_rhX"
      },
      "source": [
        ""
      ],
      "execution_count": null,
      "outputs": []
    }
  ]
}