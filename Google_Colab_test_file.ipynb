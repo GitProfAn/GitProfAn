{
  "nbformat": 4,
  "nbformat_minor": 0,
  "metadata": {
    "colab": {
      "name": "Google_Colab_test_file.ipynb",
      "provenance": [],
      "collapsed_sections": [],
      "mount_file_id": "1EAm_TLFfnSEWoGwRSJGOvtr0thggL6Eg",
      "authorship_tag": "ABX9TyMHltHERcWgcdUlHAgf+d5l",
      "include_colab_link": true
    },
    "kernelspec": {
      "name": "python3",
      "display_name": "Python 3"
    }
  },
  "cells": [
    {
      "cell_type": "markdown",
      "metadata": {
        "id": "view-in-github",
        "colab_type": "text"
      },
      "source": [
        "<a href=\"https://colab.research.google.com/github/GitProfAn/GitProfAn/blob/main/Google_Colab_test_file.ipynb\" target=\"_parent\"><img src=\"https://colab.research.google.com/assets/colab-badge.svg\" alt=\"Open In Colab\"/></a>"
      ]
    },
    {
      "cell_type": "code",
      "metadata": {
        "colab": {
          "base_uri": "https://localhost:8080/",
          "height": 35
        },
        "id": "ckJaqVatz6TB",
        "outputId": "2f7cc0d8-be80-4468-9a97-ebdb63df4187"
      },
      "source": [
        "import shutil\r\n",
        "\r\n",
        "shutil.copy(\"/content/drive/MyDrive/Colab Notebooks/datasets.zip\", \"datasets.zip\")"
      ],
      "execution_count": 2,
      "outputs": [
        {
          "output_type": "execute_result",
          "data": {
            "application/vnd.google.colaboratory.intrinsic+json": {
              "type": "string"
            },
            "text/plain": [
              "'datasets.zip'"
            ]
          },
          "metadata": {
            "tags": []
          },
          "execution_count": 2
        }
      ]
    },
    {
      "cell_type": "code",
      "metadata": {
        "id": "fZ32lzlK0iI2",
        "colab": {
          "base_uri": "https://localhost:8080/"
        },
        "outputId": "66b3bd4a-63f8-41d8-c26a-5b0fcf7b7f83"
      },
      "source": [
        "!unzip datasets.zip"
      ],
      "execution_count": 3,
      "outputs": [
        {
          "output_type": "stream",
          "text": [
            "Archive:  datasets.zip\n",
            "   creating: datasets/\n",
            "  inflating: datasets/iris.data      \n"
          ],
          "name": "stdout"
        }
      ]
    },
    {
      "cell_type": "code",
      "metadata": {
        "id": "igotjT7Z1kl4"
      },
      "source": [
        "import pandas as pd"
      ],
      "execution_count": 4,
      "outputs": []
    },
    {
      "cell_type": "code",
      "metadata": {
        "id": "eFo_ye1R2uDj"
      },
      "source": [
        "data = pd.read_fwf(\"datasets/iris.data\")"
      ],
      "execution_count": 5,
      "outputs": []
    },
    {
      "cell_type": "code",
      "metadata": {
        "colab": {
          "base_uri": "https://localhost:8080/",
          "height": 202
        },
        "id": "ZcOCrcc13Au5",
        "outputId": "a36eca80-ad25-4d07-de54-134bfe6fb17b"
      },
      "source": [
        "data.head()"
      ],
      "execution_count": 6,
      "outputs": [
        {
          "output_type": "execute_result",
          "data": {
            "text/html": [
              "<div>\n",
              "<style scoped>\n",
              "    .dataframe tbody tr th:only-of-type {\n",
              "        vertical-align: middle;\n",
              "    }\n",
              "\n",
              "    .dataframe tbody tr th {\n",
              "        vertical-align: top;\n",
              "    }\n",
              "\n",
              "    .dataframe thead th {\n",
              "        text-align: right;\n",
              "    }\n",
              "</style>\n",
              "<table border=\"1\" class=\"dataframe\">\n",
              "  <thead>\n",
              "    <tr style=\"text-align: right;\">\n",
              "      <th></th>\n",
              "      <th>5.1,3.5,1.4,0.2,Iris-setosa</th>\n",
              "    </tr>\n",
              "  </thead>\n",
              "  <tbody>\n",
              "    <tr>\n",
              "      <th>0</th>\n",
              "      <td>4.9,3.0,1.4,0.2,Iris-setosa</td>\n",
              "    </tr>\n",
              "    <tr>\n",
              "      <th>1</th>\n",
              "      <td>4.7,3.2,1.3,0.2,Iris-setosa</td>\n",
              "    </tr>\n",
              "    <tr>\n",
              "      <th>2</th>\n",
              "      <td>4.6,3.1,1.5,0.2,Iris-setosa</td>\n",
              "    </tr>\n",
              "    <tr>\n",
              "      <th>3</th>\n",
              "      <td>5.0,3.6,1.4,0.2,Iris-setosa</td>\n",
              "    </tr>\n",
              "    <tr>\n",
              "      <th>4</th>\n",
              "      <td>5.4,3.9,1.7,0.4,Iris-setosa</td>\n",
              "    </tr>\n",
              "  </tbody>\n",
              "</table>\n",
              "</div>"
            ],
            "text/plain": [
              "   5.1,3.5,1.4,0.2,Iris-setosa\n",
              "0  4.9,3.0,1.4,0.2,Iris-setosa\n",
              "1  4.7,3.2,1.3,0.2,Iris-setosa\n",
              "2  4.6,3.1,1.5,0.2,Iris-setosa\n",
              "3  5.0,3.6,1.4,0.2,Iris-setosa\n",
              "4  5.4,3.9,1.7,0.4,Iris-setosa"
            ]
          },
          "metadata": {
            "tags": []
          },
          "execution_count": 6
        }
      ]
    },
    {
      "cell_type": "code",
      "metadata": {
        "id": "CL3IwYhJ_rhX"
      },
      "source": [
        ""
      ],
      "execution_count": null,
      "outputs": []
    }
  ]
}