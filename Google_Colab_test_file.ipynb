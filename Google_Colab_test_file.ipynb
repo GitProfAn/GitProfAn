{
  "nbformat": 4,
  "nbformat_minor": 0,
  "metadata": {
    "colab": {
      "name": "Google_Colab_test_file.ipynb",
      "provenance": [],
      "collapsed_sections": [],
      "authorship_tag": "ABX9TyPdga9WC/PEwIeN6eTMLMD+",
      "include_colab_link": true
    },
    "kernelspec": {
      "name": "python3",
      "display_name": "Python 3"
    }
  },
  "cells": [
    {
      "cell_type": "markdown",
      "metadata": {
        "id": "view-in-github",
        "colab_type": "text"
      },
      "source": [
        "<a href=\"https://colab.research.google.com/github/GitProfAn/GitProfAn/blob/main/Google_Colab_test_file.ipynb\" target=\"_parent\"><img src=\"https://colab.research.google.com/assets/colab-badge.svg\" alt=\"Open In Colab\"/></a>"
      ]
    },
    {
      "cell_type": "markdown",
      "metadata": {
        "id": "zAhkW6A5GLmY"
      },
      "source": [
        "# To mount a file on Google drive directly from Colab follow the steps:\r\n",
        "\r\n",
        "step 1:\r\n",
        "click on the folder\r\n",
        "\r\n",
        "step 2:\r\n",
        "mount the google drive by clicking the proper button\r\n",
        "\r\n",
        "step 3:\r\n",
        "open the drop-down menu (by clicking the vertical dots) and you will be able to copy a path to the file (here it is: /content/drive/MyDrive/Colab Notebooks/datasets.zip)"
      ]
    },
    {
      "cell_type": "markdown",
      "metadata": {
        "id": "9WFPHBO5KZc-"
      },
      "source": [
        "![screen_01.png](data:image/png;base64,iVBORw0KGgoAAAANSUhEUgAAAdgAAADDCAIAAACu3ZciAAAAAXNSR0IArs4c6QAAAARnQU1BAACxjwv8YQUAAAAJcEhZcwAADsQAAA7EAZUrDhsAAE15SURBVHhe7Z0HXBRH/8bvOHov0rtSpIMURaQoCoICYom9JcaoidGo/yQaE98kaow10ZTXxCTGaDRFYzf2XrEhShGQjvTe4bj/w81678nROeDA+X78nDO/nZ0t7D777OzuDHvIkCGs7kVHR8fT0/PmzZs5OTlMiELpdgoLC2VlZZkMhdKj9IAQUyiSQHl5uZKSEpOhUHoUKeZ/CoVCofQQVIgpFAqlh6FCTKFQKD0MFWIKhULpYagQUygUSg9DhZhCoVB6GCrEFAqF0sNQIaZQKJQehgoxhUKh9DBUiCkUCqWHoUJMoVAoPQwVYgqFQulhqBCLGdqhF4VCaS8S1Puanp7ehg0bjI2NmfwLDh48+N133zEZycbLy2vx4sXvv/9+amoqE6JIKrT3NYrkIEFCPHXq1Hnz5u3Zs4fJ8wkMDNTV1RWLFpubm0MoORwOk2exLl68KF7FNDEx2bp1K4/HW758Oa4rNjY2CBYUFBw7dowUoEgOVIgpkgPHyMiISfY0rq6uTk5Oy5YtixQC0glFs7W1VVZWjoiIYIp2iJ9//hlXHSxCgI+Pz+3bt4uLi5kSnQZVcblcVAtOnToVGho6atQoLLTzK08RO7W1tbQdiSIhSJAjnj179qxZs/z9/Zk8HxhMKCZJd9IXnz9/nkm1xpEjR7Zv385k2gnZCiRghFevXr1o0SJ7e3syqREo8P777yclJTF5SvdCHTFFcuhNQgy++uqrDt/mQ4iJy2byzYDFQToDAgKYfDsRCDEQ1mKY5Z07dyLo7u4+fPhwUuCXX37Zu3cvSVO6mQ4IcWZmJpOiUMSKpAuxhYUF7utJesuWLXv27Pn1119Jtr1AiNsye5Or0XaEhRgItDgvL2///v0JCQnYnH379pGN6szmUDoJFWKK5CDRr69BraBcD1/ARLuYrKysVl1z29HU1Fy7du133333+eefk2teWVkZjDCZSqFQKEByhRi383COXl5eTL6LUVBQsLGxsbKyunLlClyqGJdLtNjExOT69etEi48dO5aWlkamUigUioQKMVR4w4YNcMQrV65s7mGXGHFycoJLXb9+/ZdffonEjBkzxCjE8NdQ+S1btnA4HF9fX/xyudxvv/2WmUyhUF552iTE0BF3d3e4OUFzbZdibW0NFWYyLBbSiDCZLkBbW/uzzz7bs2dPeHj4xx9/nJ2dPWjQIGZap6mpqfniiy9wOcE+ROLw4cMTJkyYPXu2ra0tbXCkUCiE1oXYx8fnwIEDq1atWrFiBRLBwcHMhC4jNTX11KlT69atQxpG8urVq136oRo2MCYm5uTJk0g7ODjArsLDiqvpAEJcWVkZFRWFXcdms9euXXvr1q1f+Vy/fp0pRKFQXm1aEWILCwu4ue+++w5uceLEiRs3bly6dGlXtxVAuXDnjl+kCwsLv/zyS5LuImDzCwoKSHr//v3L+CBBIp0ElY8fP15TUxOLQLXQYlxaTExMDA0NEWcKUSiUV5tWhHjs2LFXrlw5ffo0ySJ95MgR3FyTbJdSVlYGZ4pfJt9piouLZ82adf5ltm7dGhcX5+HhoaCgQIpBOg8dOuTu7k6y7UX0O72pU6fu2rULi/7iiy9kZGQgytDifv36ZWZmZmRkMIUoFMorTCvvEUOncAd98OBBJs/v/GHcuHELFy5k8uJjxowZc+fObdTXhDDQMihah70q3D02VrivCQK2bvny5bCoZDOhm0lJSZ9++imZ2l5Qf3BwMNSWyTdFSEgIj8f75JNPYmJimBCl26HvEVMkh1aEeOnSpeQpE5Nnsd58800DA4MO61QLQAo3bdqkq6vL5EVIS0v78MMPs7KymLz4gHri6gIXjMStW7cOHz7M5XKZaV2AcN9AtJ+2nkJcQowTZNmyZbjXuXbt2rlz55joy7z77ru4Nqenp8NJMKHWMNb1cFSpPZHwgMn3MtRDXguKvXo0/nk5E6C0SCtCDBe5Y8eOr776irROoPCaNWtg5WgXNp0EWoyrDvYtzl4mROlexCjEc+bM+f7775l8M+jr648ZM6btQjzS46NphmWv//M1kxcHbGmdIIuBJ2OvMPk2sPrHP66tn34pqY7JN4Wy/oARdipHz/3vkyu2hvPe3WsPbnnv0JV4ZEdMWrVi7jBWdeai8DeTWTxShiJMK23ECQkJGzZsWLRo0V98oMK4m8att6BFldIxYIRnzpxJVZjSHOfurBOvCgO23IDJg/yYjPjQtnZ5LciZyfDhFT6cHjaWqDC48Nf6MWMWZVaTHKUJ2tTXhJqamr29vays7P3793Hzjtvq4uLiDz/8sEtfZqBQuhRJdsSTgr4ON1UvSj626N+/kR3n+6WHcrGZodmD2BiXgXY/HV5ZrT95tIFKPz0LVZn6cxe3/xwfpaFms3TkIktt1eqy7H1nd5zLTsNcZjVxFtZemtJ1h09vLNSbOtfVktQPfvr79fN5jdvfpHUHfL7mEycz7eqSrLUr3ryXzl39419KmbF2bq7cwqQPli2NzzX8cf/qtVMajO3srXtz9s7VmfHL5IGCJyKFq4NnPnINPPr5YmR2rA47db+WTGCzzQQzkghFmDZ90AHZvX79+sWLF5Egr2FBmuGUqS+mULqCv04tmXFwN5Pho1STeuBJtplSyZ+Rafa6FohoK9Ru/2v58iOHfdzHq7BYE7zezo0/MHfnG9vuPJ7mPVmOP1d/bbVv/l6+/so1X1unsxFrZ/z239qSxGn/nY1/oioMbJzczdmJs8LGLPn8x0KmNUJavjJlzqSJZzJU3F0dSUiYX5fNeHvjzwUxf+JGOTh4+n1Wfd29U0j9Ecu8EkppC20S4kYQLeZyuS2/G0ChUMTFlZTIyprqC4l3yuu5bDYbkZiEG9FlRVk5MUUcJXUW21hD6lbMzWpeXVT8/WpVHR1WQ5nLsediy4oeP/3t7dOH+NW0QtT5M0eiar767cA74R4ctjw/VnPkj90FFRWpUTn8KildQkeEGBAtpq/BUig9hZy0ojRL2snKR7k8I4fFyypjDbYZLMeWdh3owSlIymyqBYBXz+XKqQ5QaLajAlMLy7hzv86YMu1Rjfmbfr5M9CVquTLqFsYalkPGBZirk1BdPVdB3UxHRYZkKR2gg0JMoVC6CDbbaNvrv+6dMEfdLOT3Bb+GmpgwE17GyWPmngU/vePUf+flA9Us1qFre8zt5/7y1k8LHc1+vHKoybcveZXRVzNqP5v1Lar179f4hXogp2X6f1/sPHnyWKgt52BEEx3P8ngZZy4+XfLfvRsWjUrLKCLB9Id34+qsdv9x5OTJfYNYUiMmrTp58uTkgZqL1x45/OPHKDB7694TJ74zUDX47uSJLdPHkrkowkhQx/AUSncixod1CxcuvH//fmpq6rNnz5joywwePFhHR0dXV7ftr6+1zDCnd9x49796dIPJU3o53STENTU1tbXM81NKq+hXVT2XJy10lHbTRnkVlxDLyMjgJOJwOC0LMfS6pKQEes2EOgcV4j4GdcSSyA+PHz9SVd1lZFQlRduOugpxCTGF0nnoeS6JVHI40zMz9zx65FRayoQoFErfhQqxJFLO75nIuKrquydPliYny9fXkziFQumTUCGWRMpedBGHP8/krKy9kZGDSkpIhEKh9D2oEEsiZdLSTIqPYXX1N9HRK5KSFLqyTzgKhdJTUCGWREjThDBsFmtCdvbeR48MqmnXKRRKX4MKsSTSyBETkhUUNpqbZ8qRXgQoFErfgQqxJCJoIxbwjYnJDEfH2+rMR6UUCqUvQYVYEhEIMZfNLuK7YzY/TYIUCqWPwTEyMmKSkoSmpua4ceNcXV2d+cjKyr5S79L3q6kJzsu7p6r6obX1LXX1oLw8u7Ky4zo6lSJOmdJhamtrcVwxmbZRSl/rpnQNEvpl3Zo1a3x8fJgMzCCXu2PHDuHh3Wpqap4+fdqlI8v1IIZVVZYVFZde9DL6ZVycT2HhcW3tdQMGkAil89Av6yiSg4QK8datW52cnJhMMxw8ePC7775jMn0ao6qq3yMjOTzeGw4Ose3UDkpzUCGmSA6S3kZcWVn54YcfPn78mMkLYWHRME7Bq0C6vPwBfX38qZYlJ9N2Ygql7yHRQgwVXrlyZURERHNa/Orwq6FhgYyMQ2npqLw8JkShUPoKkivERIWjoqJI+hXX4nIO53tjYyTeTk2lXU9QKH0MiXbEEF/yyE5bW3vXrl0GBgYk3hzKysoyMg3jtairq5NxvfoSJ3V0YpWUdGpqZtIRqiiUvoXkCrGCgoKenh4ZKJrD4SDd6lilS5cuHTFiBFT4008/HdDnXjCADf7KzIzHYk1//lyffuhMofQhJPQ94sDAQCgvEsXFxaqqqlZWVm5ubmSSgOzs7NOnTzMZPleuXElMTKyqqvr3338LCvrgaN7ZcnImlZXWFRX9amsvaGkxUUqHoO8RUyQHCXXEZWVlJBEcHPz+++8vWLCAZIWBRjOpV4nvTE2rpKT88/NdaMeYFEpfQUIdcWRkZElJyePHj5FokoiIiN9//72yspKZ4ZWhnMOR5vEGlZRYlZcf0dHh0e+eO0ovcsRS+hbhXiYxiVlMvs24BM3f9eVbt/88XsjP+oROGebmZK7Bi0vJ4Qe6EGlNk/XbNubePpldwVPX0BrnZJhVVB/qNqA0J69Y6DMsT3sr6eKCIgn4MKu/kXF/+drn5XVMnsXycrCVLc8vrOUxeWFkVX9+ezwrOymuqN1Dcfo7W1XlFJS9XKuECjEUtgUVBpj6CqowIVpZeXRurmlVVZ6sbKyyMhOltJNeJMQc68Erx1kcOtPE+PbCjFux3VUtJyrhOZNnsaprKirzM+/GJBC1MLW2N7O29zFjH7vS1S8gcRZ+9FXF9e+P3G34BEZOS2+1v8WFyNwl4U73rsUJridyKtof+5r+8yC1hgm0m//MCKtPjE9pUiubYbib+yTd+htZzD33C6TfGzf06cO4TKGqpo3yrUmPTSxvqnIut5bLjUnJalqmm0ern9F7Llp/RGcGDB22zsfwn6h0NW3j3xaGSqgQU1qAy2bny8qOKCiw55viGjrAaIeQZCHmqOmOGTPW3cVJjV2Uml0iZWA5zkE1ucZoxNBB0mV5WUVl5rbeDtqc1NwiYpZjn7EnTA/zGDRIV01e19Dc0oAD+2zlGODnbsHmVtyPSSTVpsQ9zuVoeptwWhBidUPrkDGBLvbWFTmpheU1LBn1UaEhnq4u+srcxPRcTA8d7y8tpzdqhLe5pkxcynPbYWPtlLnJuQ2e23nUOF2pouyCMn23kLd9ZVZ/+Qe5ANTIKE20UPsxInOsu8GF2wn5/CAY6TGo/Fn0jTziqNgeVv29rY1NZbnPCisgb/r9tIOcLOz1VAtyi8rqeQOMTYzk6z1trZwMVfOyC2XUtcYNsnQ2M1CUljI21FWrK08rq5GWlR/rYu1iol1XVJhXU89WVhtjpKapq+9taShXWfK8kjXGw97d3NBQXV5NQ8NGXSY6h2nfMzYbMFK25Kc4bCCLIy0b6GTt1l/P3kjvaVx0Yrls2CCjgirOGBdLc9m6+MJKVDvFzVKOI5WZncMXYqlgd9va/LwGX8+WDR08oCijoJwt5W1nMdTCUJNbkVL2vwvN2GFuSY8jo4pqnAdaGitJ5SelWjgM1OfWt+kcnjBhwurVq5kMi4U0IkyG0hOc19KKVFFRr619g77K1hd5feVGH5t+HHn1ydMmk4iaxbh3wt1VjR0+/vQ9NRbL3M7bx9YccWj0+ABnUkYUNlt//PhAJtMGVE1ctn+9wclES0HbYpbPMHjWxWu3TfCy5sipTV22fsEoJzZbPXT6/E+WTVdUUpm05OMgJ91yKaW3FoZzsCx547ffmMAqbGj08BwaePPfqxWkUhaLV5Ax8afLrPqi2V+fimO9sJAySuOsFE7EkVYTVvhwn3c9+8ux2O5u1g4stp6e8ebXhmpx2Ab6Jlune2mz2BbGJmumjnZQlbGzsFk82JTM9RJs2VWTA1w15OXklVZPC7CWY7OU1OaG+s910FdW0fgwbLAqU64Jwtwsjz58xk9KvTdx9ChDJRabIytF2v3kwoYOWj9usJqU1PigESO0Gl6QBfYDrSyUSYF6JQ390RYND88NTUzC9JSyWbxJI3ynDNRhSXGmjB01zlCRX4zFUdQM1OeeTS5vSMtI30rI9rAw9FSvv1FU17oQ+/j4vPXWW1evXmXyLBbS8+bNE+6Uh9LN4FjeZmZ2WUPjoK4uE6KI4OjoOLMZmBKSSk5GlpZWv7KsmDVrtpFITV7EimVr/rtxd7G8lkZDr6gvweM9P7hv38P00qg7F/bt23fodEMjxtNHZ/btO19FSrSNIUPHPz/3y+qNO3bt2LDm73+l9N18zMpXf7huz8/fbd11xNOf3/0Lt2Tdknd2/fjf34/GOVvYpFw5l67mOtRY0dp7ZMXNw5H5DV8baVjpZBS2YhE8bK0ynsSm1xNdVgqyVf1y/4Vfb0T+54/rD1m8wTYW16/e+O+1yK+OXYxn6ztpNSjVrZs31p5/sDciXlNRsagw/8CNR3lV3Jt3o5C4/rxMTc/ATr42pry2uqb6WZWcvVFDq111XsrKv6/uOhNRICOnweKeuPPobnpRWlISZvkrKp2/aJa6pqETL+dCbsMroWwNPTe5glXHIw5cf/is9EX7r1Tt9t9P77r+cNu5h8+5LF5ZMWZ/Uvi/XXvlSaKnXcN10cva/OzjeBZLfoSNZtzzMhavPjG3zLs/8wGEn5P1g/vRBfxLEUeWlRiTrOfgmpeWXlRR04oQQ21Xrly5bt26y5cvMyEWC+kNGzYgTrW4B4lTUvrQ2jpdXp7JU0RwcnKa0QxMCUnlyI4P1v12XtHM47+/bDfj267KorQCLk7gWu6LzyoVOA3WzEBdh2TFgpSUdHWl0Cvq0lKs+nreiydpvDr+suurSwobQjLK8tX1SOQfP/VghP9Q/1HDjp4611CAxaqrrOXItHxkSoc56R97JBBrNptVV92wgQxsKTaWzGR49eRj0vSyBpNdI9gFL8PmYG2ZWaITEuOKG2S0uqyysCFW38xMDYxys754P47ZSmlOfW0dX5Kl1eRfDJRTX1NS3VDL47j4mKaezmVnpCTI6XgqK/nocy8mwvByOGwe2ZqMnOxz6UUNKSn5MCuV4zFMFwVGCrI8bvXvEU+OP82u5/FaEmJNTU2o7fHjx4VVmIAI4pja6kcWlB7Hr6BgTULCT48f/x4ZuTEuzvWVfO2vd7H+u59C3a2lqkprpFXVpZt4MSanONM+LHzegvc2Lgh/IVeswoycsEmzZ0+fPj6wobHCJ3TK9On+8gr9pk+f7m1rzmbrT5g+fYyXi6qxIyKW+g19W7M1bH85eHzTgjH8ClgPHl+yHz//k2WL3li0Ys3E0fVpD+8X6Kzb+NGs1xe//2bo6ZO3GgrJqE9+642FSz6e7atx/tZdBK6e+be//2wn1qNLT5lDK+l2pLejHUk3iXn//srPkyIrBepYdjuV/eEUv9lDHT+ZNNSZxY5MSBnu57VgmNOKMH/TyrQIvvSLkllaNylg8JShjl76ykWZmWlsJTtlfrs/j1ta0vRHT0Xl5YMGOWFBkxwaHo9xFNUD9Lj/JjHP7nj5uXmqJh/5u3w2JdBcvmnxNtU3wBLtNOTdHB1IJZDqfx9mhox2y4qNz24wvOW3EitsDZWJkKeVNbRFONlYlyTGp9Qxfy456Yb9Hxkb/6yiYSktPayrrKxMT09//fXX09LSUlJSmCgfeOE33ngDvjg2NpYJUSSVzxISBhcXa9fUaNTVmVZVjc7Pf6CqmvUKjH0HR+zo6MhkXmbv3r2S/LAuIS1PQ12FVVt+bPcPD/jP93llBS9eX6uKi45LTXyaUystzyv748+D2blZcfxJz+IeVdRLy8pI1VXkorCptb2qbHkM/0ldcVZaal6djYN5XVEueXctI+lxwytUVeVVddWP791PzW3Q0PLsxGsPU5RVlLjl+ScuXygqL7t5/YaUgooMr+rSoV+ORyQ2tBFP8k999KSoNHvvD989yWzYIbzKPMtRr8Ue3fUgibF7qVnZry16J+X6v89Lm34hYoa/x9Vrd5Or/qd09+OflbJk5WWlEp8m3yyqKCgujHxepq6iUJCf9ePFJ3xXyyosKcmpqIN5rqqqjC9scMcxKRlS8gocKXZJUWFaacWNmBRFVRVpDi5dvPTnucWovqY6Lg87EJH6p88LoM0ZObkFdRx5WQ6vpjI6p8RvkDM37emVnAatbIBXdz8pW0VVKfbx41PppTl5BfzHcdzYjIZ5CeoqKsYaijl5DW+2kUoQzCwsUVeVP/voGXmP4kFCUpW0goJsg9rmFBTkVNTPD3Q5fuGe4K0MWWleTGo+kf+6urrW+yMePnw4nO/atWuvXLlCIqS9Aios6pTFBYx2YGCg4DyJjo6OiIgg6bYwePBgf3//9evXM3kWS19f38PD48iRI0z+VWJZcvJ1dfWHqqoDKiq2x8QocbmHdHU3mTc0afVtZs6cKWiFuHHjhrW1tdaLzxFxdNH+iDsAm2324/7Va6e8mfzimZtT4PhR3sMdFJKXLN/CvwNnsAta9OlrRu++/VFmwxsQLyOjMM5O59jDlKZdbvcy3Hlg4uO41BdGtYvgKKqG9Vc59LjZdvPWX19LTk6uqKhwc3MTCDGO7zNnzpw6dYpku4L3338/PDwcjoaAi0FRURHpfYIApS4sLOTxmt592Kj+/fsLP2DEKaemppaUlMTkXyVuqqtnyMtz2excWdmR+flatbUpCgqXX4E2JRw5xBFDhfPy8nBj169fP0XFhkfYEu6IJZsGSy54UKVnYSObH/fDT/vya166kc9NiIgr4BWlJvPvvF+mvi42q7hrla/NJGflNRjnLoZXWx2T09LB06dG6MB55e3tDb2WkZGxsbGBIw4ICCgpKVFVVX348KGDg0NMTAxs0cWLF1F42LBhODOBp6cnjFJWVhZMd3PK3jfQrak5dP++FIv12YABp7S1mWjfRdgRN4I64h7Ee6CZoWYL75K9irT++prEIjpCx7x58+DccYIJWgZHjx7t5+dXX1+vra09YsSIqqqqkJAQpHEGwnFzuVycqy4uLhBrlBw5ciSZq08iX1+/JiEBf+8oZeXT/foxUQqFIgF0kyN2dXWdPn06k+Gzb9++e/fuMRkR2uKIIyMjly1bxmT4fRB/9tlnmzZtgskVtBFv3rz5+++/T0xMtLOzmzZt2kcffbRkyZJHjx5BeeGJYKg///zz27dv45bT2NgYN60bN25kqutbQIU3x8a6lpQkKii8Y2tbxO+1uc9DHTGlt9BNjhiae+nSpYbmXj5It6DCHUNGRobH4wm6bRPQqLXh2rVr7u7uHh4eN2/elJWVZbPZeXl5hYWFUOczZ84whfoWWrW126OjocIPVVQW2dm9IipMyMrKeigCM41CkRi6r2ni6NGjX3/9NRL4RZoExUhRUVFlZSWcL9I6Os2+5f7kyRNNTU1zc/MHDx4UFxdXVFTU1dVduXLl6dOnsMlMob7FT48fO/CvT2p1dd/ExOyJisK/fjUd7miFQqGImW5tI4b+vv76612hwqC2tvbAgQMTJ07csmWLaC/yAqqqqqKjozMyMiDc1dXVP/zww6hRo7Zu3free++pqKgwhfoWui+G8zCvrLQsLyf/cPtAghQKpcfpxW9NNGojplAaMXPmzJEjR2ZlNe7G19nZmbYRUyQKCX1rQrSpV5RXc4QOCoXS95BQR9zoyzpRampqTp8+3ScHpqOIC7E7YvpBB6WLkFAhplA6j9iFmELpIiS0aYJCoVBeHagQUygUSg9DhZhCoVB6GCrEFAqF0sNQIaZQKJQehgoxhUKh9DAvCfFko7JDQ57jl8n3EjQ1NadOnTr7Be7u7syEFvH29h4+fDiT4TN48ODAwCbGHnd2dg7jExAQoKGhwURfoKamNmnSJAUFBSZPoVAo7aQvOOLFixfPmzdv1gvWrVsXEhJCunkj2NjYcDgNg0cJAyGePHmysbExySoqKk6ZMqU5Iba2ti4sLFRXV//4449NTU2ZCXzq6+tLSkqYYWYpFAql/fQFIYYnZVJ8oLlLly7dKsQ333zz1ltvMZOFgIAKvmdxc3Orrq4mXcgHBQXJ8PuKhEeGiCORk5Nz5cqVP//88/z583DfiPj7+2NelJSWlmaz2ViH0aNHk7mI+iPh4uISGhrq6+tL4hRKG8EBg2MPhyKTf4HZwGHuFq2MbSYJDJ/6wbdrFzOZpmhuA19ZXpU2YtHhPEB8fDz0V15eHmkvL6+EhAQpKanS0lKIrJWVlZyc3MSJE0lJAXFxcXp6erDPI0aMgH3mcrlKSkpI1NXV+fj4YCkQ5fDwcNSDIGQaWg9DTbSbQmkjOIo8PDwEQ50KMLf2drdk7uEawdZ3+XrjSibTUcRSCXh658LR0/8bMVKU5jbwlUUShdjV1ZWxsi9AhJkmViDE5eXlDg4O/fv3xzERGRmJYFVV1cOHD3G5RrC2thbqTAoTYJkhsqSh4+DBg2fOnKnhd+yLknfv3sV6GhsbKygoxMTEDB8+PC8vD04ZWoxF8OemUNoEDiocabhFY/IsaWevkWFhYY5WzJCvqtqmo8eEhIWGeNiZIAunHDrSU0FZizzMMNNpOK/NHD1DQsNCxow21mK+5B7oOgxTR/t7KpOGOo7iYL/RiAyxa2hta7ISbRMHLCdkTKCeetNPQaw8/El5YG3W0A/4QO9AN3sDFotZebaOWcBQWyevAKytc39dEhTZwFcdSRTibhjOQ8DVq1fhZIcOHYpFVFRUkODt27dtbW1xxYa2QmFJkKCsrAylJiUbjf2BwpjLxcUlKioKZXDzVVBQUFhYmJiYCMlmClEobePbb78VDDruO33prCA3DktKTpF51OE3643+OkrSyv1mvrPCma+YjWCzbd+YFqAoJ6Vt6b7inSmI6LuOenvycMxv5hzoPLChnpA5y8O8LFjSSmHzVox20uPP9xJsFcv3/+91dXkpVT3LYHdmHMimkdceNcpbpvaF+GqbBno3tOk1pHVMJ81eMmWEnYKG2YLl7xrIsUlceAMpkijEoKuH8xAA/TU0NHRzc7t27RoTYrHgguGUEWx0AVBRUQkNDb158yaXy2VCQqSmpmKuYcOGQceRzc3NlZOTu3LlCvw14qQMhdJ+1IcPMd27eeOhI/9EPMwloav79iXnlteVFxTXyKtps5Njrx27dK++qvAIn+Sceh4vet9f5yuq6/Pz8xXUGkS2Kq+wVg62tubSn9uvPcEBbOrlppsYncaqK09OyfawdxCthFVTnF/J1lSSTYw49evZhqNalKd3zh85ckZRW+/fH79+nNHQM23s1dNHbzXcXAqoyrn72efbDvy6426+uqWFhGpOzyK5O6VLh/MQUFJSEhkZmZ2dnZaWxoT4VvfWrVs5OTkpKSkk4u7uvmXLlrVr18bFxR07dowERcFcuNt69uwZ0r/88suAAQO2bdu2Zs2aFoZuolBaQ16aXVdd2XD7paajiF+2nMn7H783UO+lZ9SNMB0csnROiKrc/07wwpS7H/9nc2YlZ9Lba6YNs2GzpTlsHpf/sk9WUtS1uGR+qZfgVedsWPXJzcQ8p4DZH88PYaIi+E6dI/Xk7+OR/zuDGlFbmV/Z8L+sggybW8cPUV6GY2T0v4ew9qo1+PekRO5JSbMdAXcnbez6PTAwUE+viRsrYSC1p0+fZjJ8rl69mpzccPBBiIkdhocVlPHz83vy5AmRVFjakydPnjlz5t9//42OjiZvql24cAHlkYDbxVykpRi3WoiTJgvEL1++jEmYkd6C9QhOTk79+/cXHWQAR8vevXtra2tb6PBakijTdxjl625u7hbk7aCb8/TR3Uxu8OjBmQlPFfQHWhn1i7p1LCWXx+Iq+IwNttVR0zPpX10Yr6jvMthSIy45z9beQUu26ujpq4MD5k0ZaV1SXqmoriudmxSRGKVl4WtrLJOVU4TjNSkpIb+ovFElJWbe6xeEVpWWceVUTDWqz1yLwtqoWQzd9uUa1eJnj1NykHUcO3fWUP3Y7LqBAwfqsGpS8+v9xwY6DsSK6coo9qsvyypU0Bs3zEtJVX1Y0GvWMkkH/r5DG4ZFkWghbiNeXl4mJg2PLFrg6dOnkEUm0yJKSkqfffaZnJzcn3/+2aiBmNK76CtCzIp58lhGUa00I+rU2fv5eRkZz5/FJRcoKysUpj+5dj/+edqzonIeq7YgOjFbXkGOzWZlpz9NiEssqJVWlK5/cuNafFZWYmJqdm6atIKqnLRURvSNQ5fuwk08vnunWlpRXrahvTgvO71BiF+upDAtp6hORkletiI36cBfJytrGxxGTWVVXU35kyePC0qrkNXQ1S3OzW9YSxarMi87Nb+yv5WZbGVxYmoeIrmZyRDi0Y46cUm5RZlx+34/VMSvhNKIlzqGn2xUNtmo9I90lT/SlZGV59Qv6l+kIcO0h8aUyv6e1tLdUE9Bh/OgNAntGF4SkLL33RyqtWz9ISZPaYqWhNhTs/z/rF4aYf5avlxG5f/0rpzLOpWlxOUxj0EpFImCCrEk0PD6mrXC6asxTJ7SFC09rFPg8Kq4rIu58oJ/tfVsHblawb9pRqUu6vxWeAqFQmkKXk4yVeFWaeWtidI69o5Ejeb+YaqqNO1jgUKhUDoFfaePQqFQehgqxBQKhdLDUCGmUCiUHoYKMYVCofQwLQlxJZctz+GN0C5v7h+mogxTupfQseE8gL6+/pgxY0JCQuzs7JiQCOvWrWty6pIlS/z8/JiMEEpKSmPHjhV8Fqijo+Pv70/Sbae5hbbM5s2b+/fvz2QoFEqP0pIQPyhWiCyWG65d0dy/B0VyKMOU7iV0bDgPW1vbDz74QFpaurKyEvLt6+vLTOgcEGIsfc6cOagZWW1t7REjRpBJjRg/fjyKMRkKhdK3aOkT5zoe+2aBwsVcpeb+3SpQQBkyb28hLCxMuGMKKSmpIUOGBAoRHBysqKgYERHBlOAzf/78a9euHT9+/NmzZ0VFRbCx58+fl5GR8fb2hnarqallZmaiGPxsVFRUbm6ug4MD6dE4Jyenuroai+DxeGZmZgMGDMjOziYdUwAIsY+PD1QYUxMTE+GIMeOFCxewVkOHDnVxcenXr19GRsbAgQO9vLzg5YuLi7OysuDNcSWwtLQsLCysqKjAQktKSlAGf8r09PT6+nrRFRONBAQEYBtxXRk1ahTWsKysTHiJjXr47KVge/vGJ86UPg9tI26CRsN5yMnJwatCKEkW+rVq1Sok3nrrLZzqEMGgoKAJEyaQqcDd3f21114rLS3FCf/uu++SoLOzM1TP3Nx80aJFbPb/rl6QPOg71F9Xl+kzG8ycOXPYsGGoGb8w4AUFBfn5+VBhyLqBgcHSpUu5XC6uFsuWLcMvyjs6OkJuIP1kKBDRFWtyVXEBmDt3rqGhIZQX1ydcElBg5MiRuMyQAhQKpXvo9ULcDcN5wDfBotbVvdR/H/QLnhTG6tKlS7///runpyf0mkyCUv/1118qKipIC0Z9PnPmDKzu/v37oaSABAmxsbH379+fPn06EWh1dfVBgwbt27cPNaN+CCgcKxFimFlIc1VVFZYFQ6esrEx6O4KUX7x48e+//4alhdY3WjHRCFlVqD+0ePfu3TDR2EYsHRePnTt3Pnz4sGG1KBRKd9HrhbgbhvOAPMHMqqqqkqyOjk5gYCC0DLYUkxApLy/ncDiC+1xfX9+JEyc+f/48LS2t0T1+RUUFVE8g2QL++ecfVAtLizSph9xQo2boo/AdNCwwfGshHyhvdnY2gmQpqByFsZ6NVkw0Qi4tQF9fX0GhoZX/0KFDV69edXNz++CDD4RbqygUSjfQF5omumE4j8jISH9/fxkZGSgdVNjKyiorKwvyR15XcHR0LCgoIEoH4FKTkpLu3r0LJ0tMLoDk4dfa2hq/RD2FwbwHDhyADiINhYVc2tvbI41fpBFBGrqJ39TUVC0tLTho6CaUl+g16Xje1tYWGh0fH99oxUQjWByuB4cPH37w4MHcuXOxkm+//TbKwA6fPn3ay8sLJfsGuGnQE4GZ1jmwuygUcdEX+iMGcXFxly9fvnPnDpNvHshoq6eiaC/y0DIbG5uZM2eOHj0aEobbeWgZis2YMSMoKAgV7tq1CyJIHtZhZciLbtBHuNHbt2/DqqNMWFiYh4cHbKxgQFIlJSXYZ6w51BbKjjIaGhpnz55NSUmZMmVKcHDwgAEDfvrpp7y8PNjY0NBQFMCVxsDAAGsyatQoOOtHjx75+PggHh4ebmlpiRWDE2+0Yvn5+aKrSh7W4e5h5MiRWA2sJJaIAubm5n/99Rfp8763g92Oaxu0uBGY1LGHdThhmBSFIlZa6gazT7J161acn0ymGeB/ly1bxmQovRZcrnD5YTIvg+sxLn64AjH5NtCCClOBpnSSV+6tCdGXmURp4xBNlFcHgdQiIQqZRKF0GPE7YteSEt3q6pPa2kxewqDDebw6iMsRE6nFr7y8PJVdSlfQBUJcXPxNTMwtdfUN5ubZIq8HUCjdhliEWKDCQF1dnQQpFPHyUtME9Hf8Lf1ONhCX87/WHVJUtO/Ro9CcnF724R2FIgLR4vr6equSkndjYrZGRPx8/frXd+7Mi49Xo8PLUsSB+NuIy1501KDE5a589mxbTIx+NR0/m9K7IY7Y//nzsenp9kVFRhUVNsXFryUnr7t/nylBoXSCLhRiwuDiYljjCVlZ1BpTeh3EC5MEHHGGouIWW9uJfn5j/f3/MjVFHB5ZlZpiSqcRvxCTpglhFLjcFcnJO6KjDag1pvRO+IaYd9TY+LShYYmMTO2L73Ry5OVLRQ54CqW9iF+IcYxW878Ba4RtWZkvfRWB0vv5MCrq6MWLk1JSElVU1jg784S6cKJQOob4hRg0ap3A3d3pfv2mODvv53/m27vQ1NRcs2YN6U6IsGnTJtLVDuWVAo6YJPLk5Z/Ly9dJSfUvLR2XmkplmNJ5ukSIG7VO3FFX/4+FRU47PyeVEAIDA318fBr6E3pBWVnZli1bWtZi0eE8unNEDENDQ6wzk3mBl5fXoEGDmEx7mDNnzvjx45kMhcXaZWk5f+jQFa6ukODAzExHep9H6TRd6IjzZWS2mplVcjiDi4qcS0rIpF6H6KcfO3fuvHTpUgtaLK7hPCDi69atYzJtQ1dX9z//+c/777+P6wcTekFFRQXWh8lQOoR3drbii95Q2S8Mslx9PUlQ+gyqqqo6zSDohbEDtFDtSx90iIvNsbHPFBV3GxpWcDizMjIWpqXFKyrOcXTsjQcslHTWrFlMhs/06dOzsrLefvttPz+/5cuXp6amMhNe8NFHH92/f//UqVNIu7u7h4eHr1q1Co74xIkTysrKMNRXr16tq6szMjKCv2az2ZGRkWlpaWZmZvh7qKurQ/rv3bvH5XJDQ0MdHByOHj16/vx5NTU1T09PiHtUVFRKSoqzs7OioqKmpubt27eFO+hBBH9syDHmxWowUT6Ypbq6Gms7dOjQ4uJiPT299PT0Bw8ejBo16vHjx5mZmfDRAwcOjI2NHTBgANYKS4yOjk5ISIAjRpb0GHfz5k3SFVyvoPMfdJDmCPziz1FbW3soKcmgouKpqmo1h+NUWCjH5RbJyr4xdGipjAwp3wjcEjW5iAsXLuTk5DCZdoIKUS2Tgd3Jz798+bJgzJfOg4NQeLwurCfWlsm8GmDzBeM5NMm2bduwz5lMe0C1zY2F9lLva+LiiqbmTXX1Wv4juxhl5cC8PLOqqjwZmVh+x1e9C+gX5JLJ8IHwGRsbFxQUkD4tIaMkTpCTkwsLCztz5gzOEGQhcJBRJEaPHo1TCIIbEBAAFYY/fe+99549e8bhcKZNmxYREYHaJk+eDOHT0NCYOHHinTt3ILVYENw3BBQWG8vF+YbCjx49GjZsGP6iycnJEFNUxV9yA/C8RUVF+JuitkbnD1YAGo1LyKJFi1Ahik2YMAG/FhYWuAZgK5DFGmLdcO1BMYg+VgPKa2NjA28eFxeHlcHKX79+vb6XeED84RwdHZnMy7S39zVoMbbakcezKi01qKw0rKiQ5vESVFQ22NtnNq/mK1asGDx4sL0IuHx2WIhxeKxcuZKpyN7ew8MDfyAxaqW5uTn0gqnd3h6HhFgqRz3Y4UyGvxVVVVVMRsLAdQ47gck0Bc4y/AWZTHuIiYmBPzvWFF3SNFEl9NZEjZTUDv4bl/PT05W5XBLs1SxYsAD3/gDCxISEwLktJTKcB8BpfOTIERzTUDRTU1Ochzt27IAKo7CMjAz5djYxMfHff//dt29faWkpKofzxbH79OlT+GKIMmqAyiNiaWmJwteuXcPfrwP9VeIEOHToEC4V586dg8u+ceMG6ldRUYEdJv2IYrl///03ysAGamlpIXLr1i1cTiBekPKWj9G+zXYbm/Dhw2cNG7ZgyJCJvr6LhgyJbfGj5927d2/nk5GRIZrtDDgq5vPBYQC5bDS4V2fAun377bc42EpKSrCqOAyYCZ0Al4offvhBcOQggSzuzEi2wwwaNAgnIy4bAIsAJI1gxx6HdDXYpTjxBcAoTHlBlwhxIy5pat5TVdWorX09PZ0J9V2goaLDeZC04LE7gGmFIy4uLk5KShJ2CoSysjJhswb9xX10w5gchYUnT54k3RkL19YxsHR5eXmc0jDawcHBWA3BuHwAKixYBEnAR6MMLhsk+GoCY5GloPBMRaWkGTcNOcDNCgG7FxFcfUl7Dq55SAuynQF/MpzJOLHJcAFidJdYN9SGanGdxqre7/Sng9gha9asQVU41EkECRiO5cuXd0aLJ02ahDsD0rt0IxDEJBRg8hIDbjoFY6c1ojuEGHxlZsZlsydlZZm8As+LRIfzYCYIoa+vX1FRAaeJ00n6xUsmuH3DCaCpqWloaIg4IuQ0g+1VU1OLjY29cuVKUVFRW3ryFIDKBVcFAmw4jlSsG1xDamoqBBdG2MfHJyIiAmmm0Mtoa2ujPIyMgoICWTFKc4waNYr4MgHMBLECF3z48OEDBw5Ay06fPp0uVouDe3M44hMnTjD5TkBU+OzZsz/99BMT4oMsLEWHtRiH9NSpU7/44ovNmzejKuyHfD5IIIsgJsFmNjryexyc12vXrhVo8e3bt7HChG4S4gRFxSM6OtI83pKUFCbUd8HdHHzxli1bvvrqKz3+yO3MBCFiYmKgp9u2bVuyZAnkDzqLoLq6+oYNGz777DNoImT3+fPn8MWffvrpkydPzpw5s3r16q1btwYFBQmEuy24ubl9+OGHTIYPxH3hwoVYNBZHnijevXsXJ14LY/1BiDdt2oTT5vjx4x1oDHmlIGcXuVwdO3YMaRIXL7g1wSIA3Kuvr68YX2y3sLCAdYBFIA85OgOO3g8++ACHcSMVJiAIH4D7wuZMYgtge3EYE7eOy8YPQpAnmZgEwyHG3SKw850EWrxgwQKSnjNnDrPSP/zQJW9NNIlaXd1fDx+q1NUtGzjwZu/pTlD0rQlh9uzZ8+uvvzKZzuHn5+fk5EQG32s7ONB1+APWAZyckMuWzx8Uxl3bJ598gksFE+K3tcHHffnll0y+ryD2tyZ0dXVJvFVgfGBa58+fTxS5UbYz4C+I8/bx48e4MCNrbW2NPxyu/TgUSYFOAmWEsuMggVdgQp3A1tYWB5uoIwZvvPHGmDFj4F5v3LjBhNoMrO7u3buxVyG4+CMK/x3xZwU4pLF/oHQl7X9xFjcxI/jvNiQmJkI35eXlsStQ2/vvv0+G971w4cL27dv5ZdsHasbfC1WRtilsBWm8At3kiEGxtPQuQ0MkliYnwxqTIKWT4CSEUSXA+XbAxbz++uu42IjlmQyl24D0QNkBeQIhltfXxo8fD6UYOnQorjq4MIvlfaro6Gjc4aE2yC4T4tMZFQaQ1/379+NqgcsGLDB0k8gxEsgiiEko0AEVFoBTCUKPG8eioqKNGzdin0B8O3kdzcjIEKgwgKyTJ3Wg+4QYHNTTS1JQMKmqmpCVxYQknuaaTQlifH/z0qVL7bXDHQBHEg5TYTv8888/L1myJD4+nslTegPm5uaQCQDpwQ3+yZMnmQmdAC4StcnIyOCmHglx9YJPtNjf31/w1oS+vj6yHVZhwl9//fXFF19UVVXhFgHAWgKSRhCTUIAp2n7q6+shvlDM27dv43wh0gmjjSAmkTId4ODBgwIVbkT3NU0QBhcVfRUbWyYt/ZqTU2FveP6uqam5ePFi0obbiOLi4h07dtBBlSSWHmyaWLFihZWVFXwZuUdplO0MsrKywo9/sVYJCQkt24U2AqEU3iFJSUnYRUym06Bm4doaZSUK3Ba4ubmJfqhFMDExuXv3bseaJoTbIhrR3UIMNsXFDSssPKyj82V39b1AeTXpQSGm9F5wN9Dyuy5d8WVdDwixcVXVvshIDos1x94+vrUzgULpMFSIKR2jBetaVVXV4abnFqrt1jZiQpq8/J96elI83nuvwKtsFAql1wGpzWmGzjwAbKHaHhBi8IuRUYGMjEtJyYhON5lRKBRKb6dnhLicw/kvv6OGd1JTaS+CFArlFacH2ogJuAL8HBVlXV7+g7HxL/z3iyUT0bcmuFzujh07mnuoSpEcaBsxpbfQM44YwAZvMzPDYT4zI0NbfG/jih2csR0YocPY2JiM0NFcN4xtZNWqVeRjnlYxNTUdO3Yslkj6ZhNFRUVl27ZtOi8+wxNm3bp1gpFEugh5efnly5fv3Llz+/btWFVE2r5p3Q8d/YjSzfSYEINIFZWzWloK9fVvS7C7FO4FjdCWETogOhwOp7Kyctq0aVBkZkKX4e7uvnTpUhi3mpqahQsXurq6MhPERNuVevz48XPmzGEyQmB2DQ2Nt99+e9myZWlpaUxUUpmVkbEhLk6fDjpO6S56UojBdyYmVVJSAXl5Ni32KOZcUjKopERBYroz/vbbb1vQ4nHjxp09e/bo0aPnzp377bffnJ2dSSdqLi4uoaGh/v7+cnJypGSjCIp5e3sjQjp/IGUIampqo0ePhucldlIYNpuNJR48ePDEiROnT5/GL0oirqysHBAQgNoaaSjKDxkyhCxXcJlBteRTUdFeLlEMVXl6esJNYw29vLwwr4eHB+rBVOLEg4OD+/XrZ2NjY2VlhX2CTSbzEjAj5sI2oiojIyOkmQl8yPh+pAYm1KPg/mx2ZqZPYaEuFWJKd9HDQpwtJ/eDsfFWM7OnzbfWDSss/D46+tvoaCPJ6NIfWhkYGJiQkFBeXj58+HAmKoSWlhbpMhg8efIEdrK+vh6zTJgwoaSkxNLS8r333oNfFo2EhYVBQ0tLS319fYOCgkgNADr4f//3fwoKCnV1de+++66enh4zgY+6urqqqqqgd6jz589jiVC9FStWGBgYlJWVzZ49e9iwYWQqgG6i/uLiYnt7e0F/Ro6Ojig5ePDgqVOnkogAGNjq6urMzMyKioqZM2fi4oF1xnqOHDkSa4I1hw3HOsDqYofk5+ej5pyXP8nHjLm5ufhNTU01MzPDDmQmsFhYQ3h5LperqKiIGvDLTOg5Fqam4pJ/XkvroYR1okjpw/SwEIP9+vp/6+lx+faqEXalpWfu3t0UF8fkJYOWR+iAAsI2QlmQXrNmzbZt23bs2KGiouLn5wfTCh+9e/dubW3t/v37i0agg4cOHbp48eKRI0eEP2lvcoQOAaTjY8SZPB+YU3l5efjxCxcuoDbh73lgmS9fvgyLjVkETcbHjx/Hcv/++2/oLLHnAp4+fYqSKSkp0tLSbm5uRUVFmLegoAAlEcGieTweloJlPX/+nAgxVJuZmQ8kHpOg5qIdeuEKUVVVRbYL15uWW967AbuystF5edVSUt/09JpQXil6XohboJLDeaCicq9XGRPIDSBdrH766adQYfLkXVZWFnqEBHQHooOsaASSSiKNgE7BbBbyEYzQIQDCh9kFXbTg3h+yS2Yh1wPUKaytkydPHjp0KHxullDXS2QlYVohrFgTEmwE4pial5eH1Xj06NGZM2fS09O//vpr6PLixYsbtaW0EVxg4K/JpuEyQIYo7SngBd5LTsbvXgMD3KsxUSGwxyiUrkCihfiZouIH1tZfi7SKSji3b9/GnTv8HdLkFzIHk+jEH4R0wIAB8KpwiKIRyBDMLyJaWlqkBZbQ8ggd0H1MGj58OJw4CAkJga/MyMjo168fbvxRANYVfpYUBqampo8fP37w4AEKMyF+My5+bW1tIYvCfbMJQGEoPpS6rq4OqwGbjJKurq7jxo07fPjwli1bLCws9PX1SUkyS1tITU3Fxt6/f//q1auoHJuGXQEwSVVVFY6bZHGJInuySwnKzYUjzpaVhRAzoZdRolC6hi4ZxVm8aNXWhvPbHP/R1S1oxqx1HaKjOAsTyYfJvACOFZI0e/bsgIAAR0fHQ4cOIZKYmBgUFBQWFubh4fHHH3/Ex8eLRiCX48ePDw4ONjMzg/2E5fT29k5KSoJocjicuXPnwnWiZmRhopmF8YEsQhOnTZuGCwCUev/+/fCtsMmYhTy4++233+rr6yHW165dg9zDFJNLhYqKyvnz5xHX09MLDw+3tLTcvXs35iXVCjA0NAwNDYX/vXnz5qRJk7CGWGcsNCYmBhs4depUX1/fe/fuQUyxniiJ2rCSzMx8sEXGxsYoIEiQTbt16xauFjNnzsSmwbbDaE+fPh11YvbVq1dXVlbC3SOLiwpWD3Mx1bUN/OEwL5N5GdFRnBW43C/j4pTq6zeam4s+scClFDtQ9EkmhSIWeuyDjrZjWV6+JyoKiVkODt3fSVC3jdABoHfwmxBKPz8/iOOaNWuYCS/j6ek5ceJEJsNinTt3jox4JC5ef/114Rctdu7cCc1lMm0Dlnzx4sUCawzB/eabb0i6O2nXBx0LU1NnZWY+UlFZYGfX0EzDh7TY4Jd80CEJzxIpfRIqxK3QnUIM9w2vCpsGOf7pp5/aK3+URrRdiA2qqvY/eiRdX/+6g0Oc0DFGhZjSPUh0GzHuFqHCgoGfkUC2m/umIM+7mkOMI3SAhw8frly5cvny5R988AFV4e5kcWqqbH39SW1tYRWmULoNiW4jdiwr2/XkyYgXQ2AgEZ6Tc0FTsztbitPT0/X09IqKirJFgFb+/vvvlS+uExRJo41txK7FxYvS0so5nA+srSs5HFKgEbSNmNKlSHTThH519RiRwdv/0dXNp+cDpQ20pWmCw+P9GhU1oKLiWxMT0ZclaNMEpXuQ6KaJ53Jyu4yMGv2jKkwRI6E5OVDhdHn5P/jv3lEoPYJECzGF0qWo1NW9xe+B6GtT09qmvu2kULoHKsSUV5d56elqdXW31NSu8b+EpFB6CirElFcUs4qKCdnZXDZ7e2/7dJPS9+gF7xH3LHSEjt5Lyw/rvoyM9Kms/FNPb5uZGRMVgT6so3QP1BG3As7Y9o7Q4e/vL+jVrFGvj00SFBSEYkyGT6ujV/Tv33/z5s1ISEtL+/r6hoaGorxw9xQKCgqTJk0Svn60HdSM+plMH2VYYSFUuFha+ieJ/8Sf8ipAhbgVhLsjILQ6QseIESO0tbVJugUhFgx7UV5eDrclHGk7r732Gu5pSkpKgoODcc1gonwTh2DLX6O8Wgj3zlFT8y6/F6QfjI1LpKVJjELpQagQd4SWR+gQRUlJafTo0a6ursS6IiI87AW5/xWO8GdqoNHoFfC8ZIAMCwsLkoVDP3r0KFbm+PHjwiYadWIqfp2dnQcNGoQaAAwyrhAw4OTDBJS3sbHBclFm7NixI0eOFFx1UD+WgluBdnWlJskozpkj98UXbP7XN7Lff29cVZWoqHhEaFdTKD0IFeJ2A4cL79nCCB2iQIjDwsIgxBUVFdOmTXNwcBAe9gIVGhkZCUfIXKKjV4wbNw56WlpaCuMMiYRwy8nJFRcXozDmUhXquBmSipXEckn/FajZ1NT0vffeq6qqgvJaWVlhRtJzEPx7SEgIWQ3IMSKo2dbWFkvBJKw2v75eDzsnR27DBiU3N5lffpHbtAmRjQYGTQ5HQKF0P1SI203LI3Q0BxTwwIED586dS05O1tLSevpi2AtB58KiEdHRK+BhDx48KDyEBzxvXV0dKS/cRizM7du3z58//8svv6irq+vq6j58+BD19O/fH9WSPub/+eefCxcuXL16lWwRaj527BiWcvjwYWGX3athl5TgVyo9XWHpUnZp6W01tZsKCmQShdLjUCHuEqRftDwiIRBK0gRBBLQtwAI3Gr0CtQn3Ck+6HIJG4xc2tuUeiKDpKABZhy7D8Hp4eNy9e5e0TZMVE6wnIBHY5D7TuwIRYgHuxcWfZWZqvjy+FIXSU1AhFj+5ublOTk7wp1AxFxcXwbCeooi2wApHREevyMnJIb3YkCE8qqur8/LyBgwYgIiVlRV5ow663Eg9ybsTFhYWUGGoOWlUcXNzu3fvHinQCNRMmqTt7OwaDQPai+E34AjAXh6Xn//nw4eThMaLolB6CirE4mffvn0GBgZfffXV5s2boZ4nT55kJrxMbGzs/PnzodRMXiRy5cqVuLi49evXb9myBbrJ4XB+//13d3f3bdu2jRkzhphWLGvkyJFbt27FXAcPHkRk6dKlI4SGCgWWlpabNm1asmTJiRMnINyY8datW1BY4fGThIFn9/f3x1I8PT2xRCbaq6mpYTc1BHiSgsKdDr3hR6GIF/pBRyt0Z8fwXcGcOXNKSkoOHTrE5PnMmzcPKnz27Fkm30cRfNDBzstT4d83CKiSktqhr3/Y2LjldiJytcMv/aCD0qVQR/xqoaSk9MUXX+jp6V2/fp0JvQI0aiCu8/Sc5ej4m6Zmtw4xQKE0DxXiVmj5mwjxjtDRFezevVvYDpeXl69cuXLt2rWCl+ReBQRCzFNSqvryy4qTJ9P4A0W3i+ZeSqFQOg8V4lY4efLklStXyGjNjUD89OnTTDmKBEOEuM7bu/zmzZoFC1h95SsVSp+BthFT+iyCNmLpS5ek4uNr5s2DrSWTAkVGcW4OHh/cGNXV1SnQV48pXQO1BpS+T52fX82bbwpUuAPQdglKl9IljlhOTk60rxwKpZt5jQ+TeZn2OuL6+nqYYsgxEoDESQEKpfN0iRCr8GEyFEoPMW7cuOb6ymivEAMIMWmgEGgxhSIuqBBT+iziEmLyS/SXQIIUirigQtwKampqs2fPJv05EHAe7tmzJzMzk8lTJBWxCDEgskv0lyAIUihigQpxK4SEhDRqZ4yIiLCyslq/fn2rWuzo6Ijd+8MPPzD5HgJXES8vr8uXL1c19Zlvrwabhp386NEj4b6QBIhLiEGr+ttcnEJpC/StiVYQ7X5s//79t27dWrVqlYGBARNqP0uWLCGdu3eA+fPnk65/2gg0AjoFQ8fk+xChoaFBQUGkG+Uuhf0CKSkpJvUyiFMoHYc50CjtYe/evS1oMbQbRtjPz08w1gac19ChQ4cPHz5w4EBkMVVRUdHZ2VlTU5PD4QwaNAiT3N3dkcZUbW1tXz6C8ZYg2SiAuWRlZV1dXVVVVW1tbXV1daWlpTEXJjk4OEALSGEAmR7xAqQhwWQq0pgRNcMg941uE+Lj42Hz8cvkuxK+3jbsRpKgUMQIFeJ2A+3z9vZOSUmpqKhosmFn4sSJdnZ2mGplZYUs5HXGjBnQXNwLw7tZW1tnZWXV1NTk5ORAREaPHg1xhGN1cnIaNWoU7rXnzp2LC6ScnNycOXOQdXFxIffRJiYmEyZMIHPl5+ej/jFjxkDZMQmC6+HhQZYOMKmkpKS6unrw4MHq6uoKCgpQXlweiEBj9gEDBkydOhV/fmaGXktERMS6deua68+zKyCnDYUiXqgQtxtI2Hw++vr6TEgIFRUVc3PzEydO3Llz59q1a4hwudx9+/YVFBRAVevq6uBnk5OTkSCjIp0+fTo6OhqToI/9+vWDakOFeTzegwcPDh48WFtbC60vLCxEgcrKSlNT09zcXIh4dnZ2aWkptBV/wuLi4v379wv3epyQkHD37l3Ulp6efvXqVSbK5zafY8eOwVCTTod7Ndgh06ZNwy+Tp1B6JxyjLhhOHG4OMJlejg0fJiNCbGxsTEwMk+EDxXR1db1x4wYMKcQOuzcqKurNN9+EXKalpRkYGMAOQ4Ihr7ihhjqPHz8eggjphG8FsHiJiYl6enq+vr6wwJgXrvb58+coCdeMWTA7PDIUlnTxLi0tbW9vj8IQd9hkZiVYrEGDBqHY3r17odqoFquECwM2BGWwdAg9qsUFAMaZmaF3EhYWhjsMbCB2FBMSArcLpC1IFOwZXOTa+9kRLn7YnxSK2KFC3ArtFWKc3m5ubhA4qKetra2WlhbUc+jQofDIOTk5Hh4eGRkZRIghuJBFf39/3FlDE7EU7LTy8vLAwEA4VlhaTEpNTdXQ0IDzPXfuHArDbqMSqCoqgRDPnTsXlV+8eFFNTQ2u8MmTJ7Db5AIwceLEP//8My8vD6skLMRw4s+ePbO0tIRCYUZkyWr3UoqKirB1169fJyOoNkLsQow/AXPeUChihQpxK/B1uB1CXF9fX1hYOGbMGIgvNJTL5UIm1NXVQ0JC3N3dIXzY6VBPaOXw4cMhlNBrFPby8oIoYKedP38eRhiFPT09k5KSbt++nZKSQpqJ4WFRM7KoFhoN6UEBlBw2bBgip06dgiQtWLAgLi4uODhYU1MTGoRq8YuVFAgx9NrHxwcm+uzZs3DozEr3WrAT4IWbVGHA12ExO2ImRaGIFfoecSuMHz8+PDycyYjwzz//NBr8QpKZMWMGZDoiIoLJ935wbQsICPj333+bfF4nxveICa2+OU6hdAz6sI7Si7G0tJSXl8cvk6dQeidUiFuB2+IIHbi9ZVK9AdyP9yU7DI4ePXrq1Knjx48zeQqld0LbiFshKytLW1u7tLQ0T4SkpCQIQXV1NVOU0u3U1NSkpaXhl8m/DG0jpvQWaBsxpc9C24gpvQXaNEGhUCg9TJc4Yjk6QgdFAhDLCB3CUEdM6SK6RIgpFElAMHioKGIUYtLHE4fDSU1NffbsGRN9mcGDBysoKJSUlNy/f58JUShC0KYJCqVTkD7wmEzzqKioDBo0iMm0AfWB4Xa+nkymo7gEzT9+8IcBrHb37qRv6RDqY89kJJgOb6CkQYW4FTQ1NdesWbNViE2bNpmYmDCTKRQWq7Ky8tKlS83ZYXD79u27d+8ymbahPMDH0q0dwt0kyU+u7tt38Dmr3Z3WG1g6hvg4MJmXYbPtfj6w06xz2ieWSkCHN1DS6JLX1/oS48aNCw8P1xMiPj4e97w4tZr7snbVqlU1NTUZGRlMvisxNTX19va2tLQs48NExQFupbHh2IoOvJ+3efPmhISEwsJCJt9DODk5NdeDvhhfX5ORkXF2dm5VZ+GIrays2t40IW820Fi3PvZmw3vfUvoW4V4mMYlZMMqhEwOyo+P0bb3NjTQ8hg13cxxY8jy+uLLe3NZ7TIA3thfos6oTc/KtHAP83C3Y3Ir7MYmohM3WDw8fwlMbMNrPU1+pLjG9oR8SUQYOGRXg4+no4NCPl33symMZdf3g4DHug5xNNGWfpTw3w1IC/VxcBkhLyVo5OnJL03OLqkwdhwb5+zjaDawpfJ5f2jAKjIWb32g/L1sLw6zUxMqGV+2lh4wK8/V01VfmJqbnNqyqSCVKWkZjxwa7OtvLV+ZlFjRxJItrAyUT6ohbQfRc3blzJ+zPli1betwXGxoaLl++nM1mKyoqIqGurs5MeMHgwYNxVWAyLQKZ2LZtm6Ane8Dj8UpKSlr+noXSpfDqGaMnZWA5PsAZCTYbQhyqzmKb23l/9tnnQ610LN0DV84X/gRfMTA8XF2W+c4I2jR+fCBJs1h6E19/9+P5IYqKWm98+Lm3iQITFsJp9MJ1iycqyrJkFZnW84Cgdzxt9FkyKhPfWR08xJAEhWGzzd5bPFtTUUarv+sXn69QxrXCIWD9siny0iwjxwBvN3OUCXjrk4Xh7hyO3LgF/3nT347M2Ih3Pt/qYqIio6g9ZcYIJtQ0ndpAiYUKcUf49ttv26LF+vr6Y8aMCQ4OJj3/wjr5+vqGhoZ6eHhAPRGxs7NDNiAgQJk/OKmUlJSXlxci+CWDp2AS3FZISMjw4cOlpaUREQb2vKio6NixY4cOHUJ5XV1dZgIfyLSrq6uGhgYsM7ItrIycnJy/vz9+sRTB8ysIMVYSv1iBQYMGYUagpqamra0dFBSE2VEGQm9jY4N5UWbs2LEjR44UXLcsLCxQuY+PD9kQSnupreFWppUzmaaIP7f3w/Xbt/55RLlfw2ArSdG4Sd9XoKz78O8tf95r6Jz66aMz+/adf2mYwqrM5YuX/Pjj9r+u5pjY2TJBIYaP9dvzzce7du87ffkWiVw68/2dp1ms2tKsgmpVTT3+Us5X1pWe2Pc7FhedXMjjJX+zc39RRW1hah5LQ7cfi11VkFPBVlOTrb96YOvhK89YLLUxwx3jomK43OqnCYmevs6ilWBB2en5WhqaBan3/7NuP1l0I8SygRIKi/X/myxNQqrkr9AAAAAASUVORK5CYII=)"
      ]
    },
    {
      "cell_type": "code",
      "metadata": {
        "colab": {
          "base_uri": "https://localhost:8080/",
          "height": 35
        },
        "id": "ckJaqVatz6TB",
        "outputId": "2f7cc0d8-be80-4468-9a97-ebdb63df4187"
      },
      "source": [
        "import shutil\r\n",
        "\r\n",
        "shutil.copy(\"/content/drive/MyDrive/Colab Notebooks/datasets.zip\", \"datasets.zip\")"
      ],
      "execution_count": null,
      "outputs": [
        {
          "output_type": "execute_result",
          "data": {
            "application/vnd.google.colaboratory.intrinsic+json": {
              "type": "string"
            },
            "text/plain": [
              "'datasets.zip'"
            ]
          },
          "metadata": {
            "tags": []
          },
          "execution_count": 2
        }
      ]
    },
    {
      "cell_type": "code",
      "metadata": {
        "id": "fZ32lzlK0iI2",
        "colab": {
          "base_uri": "https://localhost:8080/"
        },
        "outputId": "66b3bd4a-63f8-41d8-c26a-5b0fcf7b7f83"
      },
      "source": [
        "!unzip datasets.zip"
      ],
      "execution_count": null,
      "outputs": [
        {
          "output_type": "stream",
          "text": [
            "Archive:  datasets.zip\n",
            "   creating: datasets/\n",
            "  inflating: datasets/iris.data      \n"
          ],
          "name": "stdout"
        }
      ]
    },
    {
      "cell_type": "code",
      "metadata": {
        "id": "igotjT7Z1kl4"
      },
      "source": [
        "import pandas as pd"
      ],
      "execution_count": null,
      "outputs": []
    },
    {
      "cell_type": "code",
      "metadata": {
        "id": "eFo_ye1R2uDj"
      },
      "source": [
        "data = pd.read_fwf(\"datasets/iris.data\")"
      ],
      "execution_count": null,
      "outputs": []
    },
    {
      "cell_type": "code",
      "metadata": {
        "colab": {
          "base_uri": "https://localhost:8080/",
          "height": 202
        },
        "id": "ZcOCrcc13Au5",
        "outputId": "a36eca80-ad25-4d07-de54-134bfe6fb17b"
      },
      "source": [
        "data.head()"
      ],
      "execution_count": null,
      "outputs": [
        {
          "output_type": "execute_result",
          "data": {
            "text/html": [
              "<div>\n",
              "<style scoped>\n",
              "    .dataframe tbody tr th:only-of-type {\n",
              "        vertical-align: middle;\n",
              "    }\n",
              "\n",
              "    .dataframe tbody tr th {\n",
              "        vertical-align: top;\n",
              "    }\n",
              "\n",
              "    .dataframe thead th {\n",
              "        text-align: right;\n",
              "    }\n",
              "</style>\n",
              "<table border=\"1\" class=\"dataframe\">\n",
              "  <thead>\n",
              "    <tr style=\"text-align: right;\">\n",
              "      <th></th>\n",
              "      <th>5.1,3.5,1.4,0.2,Iris-setosa</th>\n",
              "    </tr>\n",
              "  </thead>\n",
              "  <tbody>\n",
              "    <tr>\n",
              "      <th>0</th>\n",
              "      <td>4.9,3.0,1.4,0.2,Iris-setosa</td>\n",
              "    </tr>\n",
              "    <tr>\n",
              "      <th>1</th>\n",
              "      <td>4.7,3.2,1.3,0.2,Iris-setosa</td>\n",
              "    </tr>\n",
              "    <tr>\n",
              "      <th>2</th>\n",
              "      <td>4.6,3.1,1.5,0.2,Iris-setosa</td>\n",
              "    </tr>\n",
              "    <tr>\n",
              "      <th>3</th>\n",
              "      <td>5.0,3.6,1.4,0.2,Iris-setosa</td>\n",
              "    </tr>\n",
              "    <tr>\n",
              "      <th>4</th>\n",
              "      <td>5.4,3.9,1.7,0.4,Iris-setosa</td>\n",
              "    </tr>\n",
              "  </tbody>\n",
              "</table>\n",
              "</div>"
            ],
            "text/plain": [
              "   5.1,3.5,1.4,0.2,Iris-setosa\n",
              "0  4.9,3.0,1.4,0.2,Iris-setosa\n",
              "1  4.7,3.2,1.3,0.2,Iris-setosa\n",
              "2  4.6,3.1,1.5,0.2,Iris-setosa\n",
              "3  5.0,3.6,1.4,0.2,Iris-setosa\n",
              "4  5.4,3.9,1.7,0.4,Iris-setosa"
            ]
          },
          "metadata": {
            "tags": []
          },
          "execution_count": 6
        }
      ]
    },
    {
      "cell_type": "code",
      "metadata": {
        "id": "CL3IwYhJ_rhX"
      },
      "source": [
        ""
      ],
      "execution_count": null,
      "outputs": []
    }
  ]
}